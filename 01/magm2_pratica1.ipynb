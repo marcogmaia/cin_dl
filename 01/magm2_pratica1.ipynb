{
    "cells": [
        {
            "cell_type": "markdown",
            "metadata": {
                "id": "glhSvZp0_m54"
            },
            "source": [
                "# Não utilize a biblioteca pandas.\n",
                "# Não utilize a biblioteca scikit-learn.\n"
            ]
        },
        {
            "cell_type": "markdown",
            "metadata": {
                "id": "CtOP3kTkBnQH"
            },
            "source": [
                "# Todas as respostas devem ser justificadas com código."
            ]
        },
        {
            "cell_type": "markdown",
            "metadata": {
                "id": "J3Z_dw4x37KQ"
            },
            "source": [
                "##### Downloading the [Digits Dataset](https://scikit-learn.org/stable/datasets/toy_dataset.html\\#optical-recognition-of-handwritten-digits-dataset)\n",
                "\n"
            ]
        },
        {
            "cell_type": "code",
            "execution_count": 1,
            "metadata": {
                "id": "Is2twaWu36it"
            },
            "outputs": [],
            "source": [
                "import matplotlib.pyplot as plt\n",
                "import numpy as np\n",
                "\n",
                "# if not os.path.isfile('digits.csv'):\n",
                "#   !gdown https://drive.google.com/uc?id=1AMxqyx55yqckUmrpvMLDFifPBRqDIX6w"
            ]
        },
        {
            "cell_type": "markdown",
            "metadata": {
                "id": "QtL6-lhpCAhq"
            },
            "source": [
                "##### O dataset Digits contém imagens, com resolução 8x8, de dígitos manuscritos.\n",
                "\n",
                "##### Cada linha do CSV possui 65 colunas e corresponde a uma imagem, as 64 primeiras colunas representam cada um dos 8x8 pixels das imagens, enquanto a última coluna corresponde ao dígito representado."
            ]
        },
        {
            "cell_type": "markdown",
            "metadata": {
                "id": "VhRR3H5C3Y1g"
            },
            "source": [
                "### 1- O dataset possui uma distribuição balanceada de classes? Explique e justifique graficamente a sua resposta."
            ]
        },
        {
            "cell_type": "code",
            "execution_count": 2,
            "metadata": {
                "id": "bdbfJxER46Tm"
            },
            "outputs": [
                {
                    "name": "stdout",
                    "output_type": "stream",
                    "text": [
                        "O dataset está balanceado, pois tem uma pequena variância (6.81) e desvio padrão (2.61)\n",
                        "[0. 1. 2. 3. 4. 5. 6. 7. 8. 9.]\n",
                        "[178 182 177 183 181 182 181 179 174 180] [0. 1. 2. 3. 4. 5. 6. 7. 8. 9.]\n"
                    ]
                },
                {
                    "data": {
                        "image/png": "[encoded data removed]",
                        "text/plain": [
                            "<Figure size 432x288 with 1 Axes>"
                        ]
                    },
                    "metadata": {
                        "needs_background": "light"
                    },
                    "output_type": "display_data"
                }
            ],
            "source": [
                "def get_dataset_as_ndarray() -> np.ndarray:\n",
                "    dataset = np.genfromtxt('./digits.csv', delimiter=',').reshape(-1, 65)\n",
                "    return dataset\n",
                "\n",
                "\n",
                "dataset = get_dataset_as_ndarray()\n",
                "all_labels = dataset[:, -1]\n",
                "bins, counts = np.unique(all_labels, return_counts=True)\n",
                "print(\n",
                "    f'O dataset está balanceado, pois tem uma pequena variância ({counts.var():.2f}) e desvio padrão ({counts.std():.2f})'\n",
                ")\n",
                "print(bins)\n",
                "print(counts, bins)\n",
                "plt.bar(np.arange(10), counts)\n",
                "plt.show()"
            ]
        },
        {
            "cell_type": "markdown",
            "metadata": {
                "id": "O2OEPIcs6xjT"
            },
            "source": [
                "### 2- Exiba uma imagem de cada dígito."
            ]
        },
        {
            "cell_type": "code",
            "execution_count": 3,
            "metadata": {
                "id": "vd21YguCAUO_"
            },
            "outputs": [
                {
                    "data": {
                        "image/png": "[encoded data removed]",
                        "text/plain": [
                            "<Figure size 432x288 with 10 Axes>"
                        ]
                    },
                    "metadata": {},
                    "output_type": "display_data"
                }
            ],
            "source": [
                "numbers, args = np.unique(all_labels, return_index=True)\n",
                "fig, ax = plt.subplots(1, 10)\n",
                "for i in args:\n",
                "    image = dataset[i, 0:-1].reshape(8, 8)\n",
                "    ax[i].imshow(image, cmap='gray')\n",
                "    ax[i].tick_params(left=False,\n",
                "                      right=False,\n",
                "                      labelleft=False,\n",
                "                      labelbottom=False,\n",
                "                      bottom=False)\n",
                "plt.show()"
            ]
        },
        {
            "cell_type": "markdown",
            "metadata": {
                "id": "P3GPKRZA7WPm"
            },
            "source": [
                "### 3- Construa um dataset que contenha apenas os dígitos 0 e 1, separando os dados em arrays de dados e de *labels*."
            ]
        },
        {
            "cell_type": "code",
            "execution_count": 4,
            "metadata": {
                "id": "ozbFyQqyAUre"
            },
            "outputs": [
                {
                    "data": {
                        "text/plain": [
                            "((360, 64), (360,))"
                        ]
                    },
                    "execution_count": 4,
                    "metadata": {},
                    "output_type": "execute_result"
                }
            ],
            "source": [
                "mask = (all_labels == 0) | (all_labels == 1)\n",
                "data = dataset[mask, 0:-1]\n",
                "labels = dataset[mask, -1]\n",
                "(data.shape, labels.shape)"
            ]
        },
        {
            "cell_type": "markdown",
            "metadata": {
                "id": "4R5sd6EnBWmX"
            },
            "source": [
                "### 4- Quantas imagens possui o dataset que você construiu?"
            ]
        },
        {
            "cell_type": "code",
            "execution_count": 5,
            "metadata": {
                "id": "DA3zP67pBkJr"
            },
            "outputs": [
                {
                    "name": "stdout",
                    "output_type": "stream",
                    "text": [
                        "O dataset construído possui 360 imagens.\n"
                    ]
                }
            ],
            "source": [
                "num_images = len(labels)\n",
                "print(f'O dataset construído possui {num_images} imagens.')"
            ]
        },
        {
            "cell_type": "markdown",
            "metadata": {
                "id": "4nlseRrM__HO"
            },
            "source": [
                "### 5- Divida o dataset em conjuntos de treino e de teste.\n",
                "##### Utilize 70% dos dados para treino e 30% para teste."
            ]
        },
        {
            "cell_type": "code",
            "execution_count": 6,
            "metadata": {
                "id": "8DYWWGJXUw-L"
            },
            "outputs": [
                {
                    "data": {
                        "text/plain": [
                            "((252, 64), (252, 1))"
                        ]
                    },
                    "execution_count": 6,
                    "metadata": {},
                    "output_type": "execute_result"
                }
            ],
            "source": [
                "rng = np.random.default_rng(4)\n",
                "random_args = np.arange(num_images)\n",
                "rng.shuffle(random_args)\n",
                "partition_args = int(np.ceil(0.7 * num_images))\n",
                "training_x, test_x = data[random_args[:partition_args]], data[\n",
                "    random_args[partition_args:]]\n",
                "training_y = labels[random_args[:partition_args]].reshape(-1, 1)\n",
                "test_y = labels[random_args[partition_args:]].reshape(-1, 1)\n",
                "training_x.shape, training_y.shape"
            ]
        },
        {
            "cell_type": "markdown",
            "metadata": {
                "id": "X87BumF5D3MH"
            },
            "source": [
                "### 6- Implemente a função de erro:\n",
                "$\\mathcal{L}(y, y') = -(y\\log{(y')} + (1 - y)\\log{(1 - y')})$\n",
                "\n",
                "onde $y$ é a *label* real do dígito, enquanto $y'$ é a saída gerada pelo neurônio.\n"
            ]
        },
        {
            "cell_type": "code",
            "execution_count": 7,
            "metadata": {
                "id": "UuGKVzquC2y7"
            },
            "outputs": [],
            "source": [
                "def loss(y: np.ndarray, p: np.ndarray) -> np.ndarray:\n",
                "    log = np.log\n",
                "    eps = np.finfo(p.dtype).eps\n",
                "    p = np.clip(p, eps, 1 - eps)\n",
                "    return -(y * log(p) + (1 - y) * log(1 - p))\n"
            ]
        },
        {
            "cell_type": "markdown",
            "metadata": {
                "id": "wqomUJzLbb7T"
            },
            "source": [
                "### 7- Implemente a função de ativação Sigmoide:\n",
                "$sigmoid(x) = \\frac{1}{1 + e^{-x}}$"
            ]
        },
        {
            "cell_type": "code",
            "execution_count": 8,
            "metadata": {
                "id": "elr5PMGtbw2C"
            },
            "outputs": [],
            "source": [
                "def sigmoid(x: np.ndarray) -> np.ndarray:\n",
                "    return np.reciprocal((1.0 + np.exp(-x)))\n"
            ]
        },
        {
            "cell_type": "markdown",
            "metadata": {
                "id": "f9yUJsuvCj87"
            },
            "source": [
                "### 8- Implemente um neurônio para a tarefa de regressão, utilizando a função de ativação implementada acima."
            ]
        },
        {
            "cell_type": "code",
            "execution_count": 9,
            "metadata": {
                "id": "gRaSQp6VF0B5"
            },
            "outputs": [],
            "source": [
                "class Neuron:\n",
                "\n",
                "    def __init__(self, weights: np.ndarray, bias: float, learning_rate: float,\n",
                "                 activation_fn):\n",
                "        \"\"\"Cria um neurônio com seus hiperparâmetros\n",
                "\n",
                "        Args:\n",
                "            weights (np.ndarray): shape (64, 1)\n",
                "            bias (float): _description_\n",
                "            activation_fn (_type_): _description_\n",
                "        \"\"\"\n",
                "        self.weights = weights\n",
                "        self.bias = bias\n",
                "        self.activation = activation_fn\n",
                "        self.learning_rate = learning_rate\n",
                "\n",
                "    def forward(self, X: np.ndarray):\n",
                "        \"\"\"Computa a passagem pelo neuron\n",
                "\n",
                "        Args:\n",
                "            X (np.ndarray): shape = (N, 64)\n",
                "\n",
                "        Returns:\n",
                "            float: output sobre todo o conjunto, (N, 1)\n",
                "        \"\"\"\n",
                "        A = X @ self.weights + self.bias\n",
                "        Y = self.activation(A)\n",
                "        return Y\n",
                "\n",
                "    def update_gradients(self, grad_weights: np.ndarray, grad_bias=None):\n",
                "        self.weights = self.weights - (self.learning_rate * grad_weights)\n",
                "        if grad_bias is not None:\n",
                "            self.bias = self.bias - (self.learning_rate * grad_bias)\n"
            ]
        },
        {
            "cell_type": "markdown",
            "metadata": {
                "id": "vnIqKRwsEdlY"
            },
            "source": [
                "### 9- Inicialize os parâmetros do neurônio. Justifique a forma de inicialização escolhida. "
            ]
        },
        {
            "cell_type": "code",
            "execution_count": 10,
            "metadata": {
                "id": "RWHjxffFEc_D"
            },
            "outputs": [],
            "source": [
                "# inicializamos os pesos de forma aleatória para nao haver preferencias\n",
                "neuron = Neuron(\n",
                "    weights=rng.uniform(0, 1, (64, 1)),\n",
                "    bias=0,\n",
                "    learning_rate=1e-4,  # um valor baixo para não dar overshoot do gradiente\n",
                "    activation_fn=sigmoid)\n"
            ]
        },
        {
            "cell_type": "markdown",
            "metadata": {
                "id": "g2Z5bQkaFnNs"
            },
            "source": [
                "### 10- Implemente o cálculo de gradientes dos parâmetros do seu neurônio sabendo que:\n",
                "$\\frac{\\partial \\mathcal{L}}{\\partial w} = \\frac{1}{n}X\\cdot(A-Y)^T$,\n",
                "\n",
                "$\\frac{\\partial \\mathcal{L}}{\\partial b} = \\frac{1}{n}\\sum_{i=1}^{n}(a^{(i)}-y^{(i)})$\n",
                "\n",
                "onde:\n",
                "\n",
                "$A = sigmoid(w^TX+b)$,\n",
                "\n",
                "$X$ são os dados de entrada, e\n",
                "\n",
                "$Y$ são as *labels* correspondentes.\n"
            ]
        },
        {
            "cell_type": "code",
            "execution_count": 11,
            "metadata": {
                "id": "LEyH7VPUExob"
            },
            "outputs": [],
            "source": [
                "def gradient_weights(X: np.ndarray, pred: np.ndarray, y: np.ndarray):\n",
                "    n = pred.shape[0]\n",
                "    A = pred - y\n",
                "    return (X.T @ A) / n\n",
                "\n",
                "def gradient_bias(O, Y):\n",
                "    return np.sum(O - Y)/len(O)"
            ]
        },
        {
            "cell_type": "markdown",
            "metadata": {
                "id": "sd-m6DBaEx4u"
            },
            "source": [
                "### 11- Implemente o loop de treinamento do neurônio. Defina os hiper parâmetros e explique cada um deles. Treine o modelo e exiba o gráfico do valor de erro ao longo do treinamento."
            ]
        },
        {
            "cell_type": "markdown",
            "metadata": {},
            "source": [
                "hiper parâmetros:\n",
                "\n",
                "- bias\n",
                "  - causa um \"shift\" na função de ativação\n",
                "- weights\n",
                "  - o coração da rede, faz com que a rede atribua a significância de cada entrada, fazendo com que o neurônio seja ativado ou não\n",
                "- epochs\n",
                "  - número de iterações de treinamento\n",
                "- learning_rate\n",
                "  - taxa com que o gradiente é multiplicado e somado\n",
                "- activation_function\n",
                "  - função que ativa ou não o neuron depois de processado com os weights e bias"
            ]
        },
        {
            "cell_type": "code",
            "execution_count": 12,
            "metadata": {
                "id": "HC8BiVN6E8qr"
            },
            "outputs": [
                {
                    "name": "stdout",
                    "output_type": "stream",
                    "text": [
                        "bias final: -0.05965878421401883.\n",
                        "Loss final: 13.200648676182892.\n"
                    ]
                },
                {
                    "data": {
                        "image/png": "[encoded data removed]",
                        "text/plain": [
                            "<Figure size 432x288 with 1 Axes>"
                        ]
                    },
                    "metadata": {
                        "needs_background": "light"
                    },
                    "output_type": "display_data"
                },
                {
                    "name": "stdout",
                    "output_type": "stream",
                    "text": [
                        "A acurácia foi de 99.074%.\n",
                        "Número de erros: 1.\n",
                        "Predição:\n",
                        "[[1.]\n",
                        " [0.]\n",
                        " [1.]\n",
                        " [1.]\n",
                        " [0.]]\n",
                        "Labels:\n",
                        "[[1.]\n",
                        " [0.]\n",
                        " [1.]\n",
                        " [1.]\n",
                        " [0.]]\n",
                        "Gradientes:\n",
                        "[[ 0.7284271 ]\n",
                        " [ 0.00239513]\n",
                        " [-0.14192063]\n",
                        " [-0.53989956]\n",
                        " [-0.3347994 ]]\n"
                    ]
                }
            ],
            "source": [
                "\n",
                "# training loop\n",
                "losses = []\n",
                "for i in range(4000):\n",
                "    prediction = neuron.forward(training_x)\n",
                "    grad_w = gradient_weights(training_x, prediction, training_y)\n",
                "    grad_b = gradient_bias(prediction, training_y)\n",
                "    neuron.update_gradients(grad_w, grad_b)\n",
                "    losses.append(loss(training_y, prediction).sum())\n",
                "\n",
                "print(f\"bias final: {neuron.bias}.\")\n",
                "print(f\"Loss final: {losses[-1]}.\")\n",
                "plt.plot(np.arange(len(losses)), losses)\n",
                "plt.show()\n",
                "\n",
                "# test\n",
                "prediction = neuron.forward(test_x)\n",
                "\n",
                "\n",
                "def classify(prediction) -> np.ndarray:\n",
                "    return (prediction > 0.5).astype(np.float64)\n",
                "\n",
                "\n",
                "pred = classify(prediction)\n",
                "equals = np.sum(pred == test_y)\n",
                "nerrors = len(pred) - equals\n",
                "accuracy = equals / len(pred) * 100\n",
                "print(f\"A acurácia foi de {accuracy:.3f}%.\")\n",
                "print(f\"Número de erros: {nerrors}.\")\n",
                "\n",
                "print(\"Predição:\")\n",
                "print(pred[:5])\n",
                "print(\"Labels:\")\n",
                "print(test_y[:5])\n",
                "print(\"Gradientes:\")\n",
                "print(neuron.weights[:5])\n",
                "\n"
            ]
        },
        {
            "cell_type": "markdown",
            "metadata": {
                "id": "fPwMqITsGAN4"
            },
            "source": [
                "### 12- Avalie o desempenho do seu modelo. Justifique a sua forma de avaliação. Discuta sobre os resultados."
            ]
        },
        {
            "cell_type": "code",
            "execution_count": 13,
            "metadata": {
                "id": "moRKoJRNGZDe"
            },
            "outputs": [
                {
                    "name": "stdout",
                    "output_type": "stream",
                    "text": [
                        "pesos finais:\n"
                    ]
                },
                {
                    "data": {
                        "image/png": "[encoded data removed]",
                        "text/plain": [
                            "<Figure size 432x288 with 1 Axes>"
                        ]
                    },
                    "metadata": {
                        "needs_background": "light"
                    },
                    "output_type": "display_data"
                },
                {
                    "name": "stdout",
                    "output_type": "stream",
                    "text": [
                        "O modolo teve um bom desempenho, com uma acurácia de 99.074%.\n",
                        "Podemos perceber que os pesos forma uma mescla dos dígitos 1 e 0.\n",
                        "Um ponto que pude perceber, foi que independente do bias escolhido, o resultado não tem nenhuma variação.\n"
                    ]
                }
            ],
            "source": [
                "\n",
                "print(\"pesos finais:\")\n",
                "imgwei = neuron.weights.reshape(8,8)\n",
                "plt.imshow(imgwei, cmap='inferno')\n",
                "plt.show()\n",
                "print(f\"O modolo teve um bom desempenho, com uma acurácia de {accuracy:.3f}%.\")\n",
                "print(\"Podemos perceber que os pesos forma uma mescla dos dígitos 1 e 0.\")\n",
                "print(\"Um ponto que pude perceber, foi que independente do bias escolhido, o resultado não tem nenhuma variação.\")"
            ]
        }
    ],
    "metadata": {
        "colab": {
            "name": "Lista Prática 1 - Aprendizagem Profunda",
            "provenance": []
        },
        "kernelspec": {
            "display_name": "Python 3",
            "name": "python3"
        },
        "language_info": {
            "codemirror_mode": {
                "name": "ipython",
                "version": 3
            },
            "file_extension": ".py",
            "mimetype": "text/x-python",
            "name": "python",
            "nbconvert_exporter": "python",
            "pygments_lexer": "ipython3",
            "version": "3.8.12"
        }
    },
    "nbformat": 4,
    "nbformat_minor": 0
}
